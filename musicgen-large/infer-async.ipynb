{
 "cells": [
  {
   "cell_type": "markdown",
   "id": "f71a68cf-fd5a-4b69-85a0-9a6729488bb8",
   "metadata": {},
   "source": [
    "# Inference musicgen large deployed on SageMaker Endpoint"
   ]
  },
  {
   "cell_type": "markdown",
   "id": "0e6cc21f-c344-4ec7-b6fe-e6103cc81ff5",
   "metadata": {},
   "source": [
    "## Prepare code for inferencing the musicgen deployed on SageMaker Endpoint"
   ]
  },
  {
   "cell_type": "code",
   "execution_count": null,
   "id": "45fcd72b-7e3f-49fb-a362-ba7e8e4babb1",
   "metadata": {
    "tags": []
   },
   "outputs": [],
   "source": [
    "%store -r \\\n",
    "endpoint_name \\\n",
    "sagemaker_session_bucket"
   ]
  },
  {
   "cell_type": "code",
   "execution_count": null,
   "id": "cc9d5c4a-ad19-4ddc-9dc7-c6c67dbd559b",
   "metadata": {
    "tags": []
   },
   "outputs": [],
   "source": [
    "endpoint_name, sagemaker_session_bucket"
   ]
  },
  {
   "cell_type": "code",
   "execution_count": null,
   "id": "c00f4242-af21-4bc7-99a5-f2c2c9142049",
   "metadata": {
    "tags": []
   },
   "outputs": [],
   "source": [
    "import sagemaker\n",
    "sm_session = sagemaker.session.Session()"
   ]
  },
  {
   "cell_type": "code",
   "execution_count": null,
   "id": "b4931798-c8f1-40d5-bb52-27fd12c96f7e",
   "metadata": {
    "tags": []
   },
   "outputs": [],
   "source": [
    "import os\n",
    "import uuid\n",
    "import json\n",
    "\n",
    "\n",
    "def generate_json(data):\n",
    "    suffix = str(uuid.uuid1())\n",
    "    filename = f'payload_{suffix}.json'\n",
    "    with open(filename, 'w') as fp:\n",
    "        json.dump(data, fp)\n",
    "    return filename\n",
    "\n",
    "\n",
    "def upload_input_json(sm_session, filename):\n",
    "    return sm_session.upload_data(\n",
    "        filename,\n",
    "        bucket=sm_session.default_bucket(),\n",
    "        key_prefix='musicgen_large/input_payload',\n",
    "        extra_args={\"ContentType\": \"application/json\"},\n",
    "    )\n",
    "\n",
    "\n",
    "def delete_file_on_disk(filename):\n",
    "    if os.path.isfile(filename):\n",
    "        os.remove(filename)"
   ]
  },
  {
   "cell_type": "code",
   "execution_count": null,
   "id": "3d3c9d7b-de0d-489b-8012-a85a51a1b95f",
   "metadata": {
    "tags": []
   },
   "outputs": [],
   "source": [
    "import urllib, time\n",
    "from botocore.exceptions import ClientError\n",
    "import random\n",
    "\n",
    "def get_output(output_location, failure_location):\n",
    "    output_url = urllib.parse.urlparse(output_location)\n",
    "    failure_url = urllib.parse.urlparse(failure_location)\n",
    "    bucket = output_url.netloc\n",
    "    key = output_url.path[1:]\n",
    "    icons = [\"🪘\",\"🪇\",\"🎷\",\"🎸\",\"🎺\",\"🎻\",\"🥁\", \"🪗\", \"🪕\"]\n",
    "    print(\"generating music\")\n",
    "    while True:\n",
    "        try:\n",
    "            if len(sm_session.list_s3_files(bucket, failure_url.path[1:])):\n",
    "                print('🔕 Error generating music')\n",
    "                res = sm_session.read_s3_file(bucket=failure_url.netloc, key_prefix=failure_url.path[1:])\n",
    "                print(res)\n",
    "                break\n",
    "            res = sm_session.read_s3_file(bucket=output_url.netloc, key_prefix=output_url.path[1:])\n",
    "            print(\"\\nMusic is ready!🎉\")\n",
    "            return res\n",
    "        except ClientError as e:\n",
    "            if e.response[\"Error\"][\"Code\"] == \"NoSuchKey\":\n",
    "                \n",
    "                print(random.choice(icons), end = '')\n",
    "                time.sleep(2)\n",
    "                continue\n",
    "            raise\n",
    "    \n",
    "\n",
    "import botocore\n",
    "def download_from_s3(url):\n",
    "    \"\"\"ex: url = s3://bucketname/prefix1/music.wav\"\"\"\n",
    "    url_parts = url.split(\"/\")  # => ['s3:', '', 'sagemakerbucketname', 'data', ...\n",
    "    bucket_name = url_parts[2]\n",
    "    key = os.path.join(*url_parts[3:])\n",
    "    filename = url_parts[-1]\n",
    "    if not os.path.exists(filename):\n",
    "        try:\n",
    "            # Create an S3 client\n",
    "            s3 = boto3.resource('s3')\n",
    "            print('Downloading {} to {}'.format(url, filename))\n",
    "            s3.Bucket(bucket_name).download_file(key, filename)\n",
    "            return filename\n",
    "        except botocore.exceptions.ClientError as e:\n",
    "            if e.response['Error']['Code'] == \"404\":\n",
    "                print('The object {} does not exist in bucket {}'.format(\n",
    "                    key, bucket_name))\n",
    "            else:\n",
    "                raise\n",
    "\n",
    "\n",
    "from IPython.display import Audio\n",
    "import IPython\n",
    "def play_output_audios(filenames, texts):\n",
    "    for filename, text in zip(filenames, texts):\n",
    "        # Create an Audio object\n",
    "        if not filename:\n",
    "            continue\n",
    "        audio = Audio(filename=filename)\n",
    "        # Display the audio\n",
    "        print(f\"{text}:\\n{filename}\")\n",
    "        print()\n",
    "        display(audio)\n",
    "        print()"
   ]
  },
  {
   "cell_type": "markdown",
   "id": "ad600940-db0e-42a5-a78a-e1e4caac6443",
   "metadata": {},
   "source": [
    "## Prepare and upload inference data to Amazon S3"
   ]
  },
  {
   "cell_type": "code",
   "execution_count": null,
   "id": "1f4decec-fd9b-4944-b138-e75b1a1ff935",
   "metadata": {
    "tags": []
   },
   "outputs": [],
   "source": [
    "default_generation_params = { 'guidance_scale': 3, 'max_new_tokens': 1260, 'do_sample': True, 'temperature': 0.9 }\n",
    "data = {\n",
    "    \"texts\": [\n",
    "        \"\"\"Compose a melancholic and introspective background music piece that captures the happyness of a boy. Use a combination of strings, woodwinds, and soft percussion to depict the sportive nature the boy, the brightness of the morning, and the loads of hope that may lie ahead for him.\"\"\",\n",
    "        \"\"\"Compose an upbeat, rhythmic background track that captures the lively atmosphere of a bustling marketplace. Utilize a mix of percussion instruments such as hand drums, tambourines, and cymbals, along with energetic string and wind sections, to create a vibrant, engaging musical landscape.\"\"\"\n",
    "    ],\n",
    "    \"bucket_name\": sagemaker_session_bucket,\n",
    "    \"generation_params\": default_generation_params\n",
    "}"
   ]
  },
  {
   "cell_type": "code",
   "execution_count": null,
   "id": "2dfc7b60-cb7c-439b-9aeb-ed06f0efa8f1",
   "metadata": {
    "tags": []
   },
   "outputs": [],
   "source": [
    "filename = generate_json(data)\n",
    "input_s3_location = upload_input_json(sm_session, filename)\n",
    "delete_file_on_disk(filename)"
   ]
  },
  {
   "cell_type": "code",
   "execution_count": null,
   "id": "5f6714dd-d3b9-4533-9f5e-8f9b531b7cef",
   "metadata": {
    "tags": []
   },
   "outputs": [],
   "source": [
    "input_s3_location"
   ]
  },
  {
   "cell_type": "markdown",
   "id": "9a830af4-779c-41f3-ac86-07b30018cc07",
   "metadata": {},
   "source": [
    "## Invoke Amazon SageMaker Async Inference Endpoint for Musicgen"
   ]
  },
  {
   "cell_type": "code",
   "execution_count": null,
   "id": "aa5c9b24-fb49-48d8-8d64-9e79c2920644",
   "metadata": {
    "tags": []
   },
   "outputs": [],
   "source": [
    "import boto3\n",
    "sagemaker_runtime = boto3.client('sagemaker-runtime')"
   ]
  },
  {
   "cell_type": "markdown",
   "id": "416324e0-d029-4a75-b3c2-12db0fb87334",
   "metadata": {},
   "source": [
    "\n",
    "For InvocationTimeoutSeconds, you can set the max timeout for the requests. You can set this value to a maximum of 3600 seconds (one hour) on a per-request basis. If you don't specify this field in your request, by default the request times out at 15 minutes.\n",
    "\n",
    "Ref: [Invoke an Asynchronous Endpoint](https://docs.aws.amazon.com/sagemaker/latest/dg/async-inference-invoke-endpoint.html)\n"
   ]
  },
  {
   "cell_type": "code",
   "execution_count": null,
   "id": "a2f5eb02-1ac7-44f8-8b79-f6c101eaae7e",
   "metadata": {
    "tags": []
   },
   "outputs": [],
   "source": [
    "response = sagemaker_runtime.invoke_endpoint_async(\n",
    "    EndpointName=endpoint_name,\n",
    "    InputLocation=input_s3_location,\n",
    "    ContentType=\"application/json\",\n",
    "    InvocationTimeoutSeconds=3600\n",
    ")"
   ]
  },
  {
   "cell_type": "code",
   "execution_count": null,
   "id": "273f11e2-07e9-422c-9208-dd32ea73ce24",
   "metadata": {
    "tags": []
   },
   "outputs": [],
   "source": [
    "response"
   ]
  },
  {
   "cell_type": "markdown",
   "id": "6203c9e7-7fdb-4e84-95b3-16273e06abf1",
   "metadata": {},
   "source": [
    "Wait for Musicgen to generate music"
   ]
  },
  {
   "cell_type": "code",
   "execution_count": null,
   "id": "9231492a-1ba7-48e0-b756-a0394637c7f9",
   "metadata": {
    "tags": []
   },
   "outputs": [],
   "source": [
    "%%time\n",
    "output = get_output(response.get('OutputLocation'), response.get('FailureLocation'))"
   ]
  },
  {
   "cell_type": "code",
   "execution_count": null,
   "id": "123e991a-9df8-4b20-a485-b414034de7bf",
   "metadata": {
    "tags": []
   },
   "outputs": [],
   "source": [
    "output = json.loads(output)\n",
    "output.keys()"
   ]
  },
  {
   "cell_type": "code",
   "execution_count": null,
   "id": "772a2dc3-487e-45d1-936f-cfb1661bea6b",
   "metadata": {
    "tags": []
   },
   "outputs": [],
   "source": [
    "output.get('generated_outputs_s3')"
   ]
  },
  {
   "cell_type": "markdown",
   "id": "1083d83c-894e-48e7-91f9-87ccb494fe15",
   "metadata": {},
   "source": [
    "## Download and Display the wav files to play music"
   ]
  },
  {
   "cell_type": "code",
   "execution_count": null,
   "id": "eacc080c-2958-4735-b51e-4324da4e6930",
   "metadata": {
    "tags": []
   },
   "outputs": [],
   "source": [
    "music_files = []\n",
    "for s3_url in output.get('generated_outputs_s3'):\n",
    "    if s3_url is not None:\n",
    "        music_files.append(download_from_s3(s3_url))"
   ]
  },
  {
   "cell_type": "code",
   "execution_count": null,
   "id": "b27a3970-f72d-4bb8-bb22-3d98d7fc6eb0",
   "metadata": {
    "tags": []
   },
   "outputs": [],
   "source": [
    "play_output_audios(music_files, data.get('texts'))"
   ]
  },
  {
   "cell_type": "markdown",
   "id": "5a81f98c-3907-4799-a94a-d1ccea187cb8",
   "metadata": {},
   "source": [
    "Clean up the files downloaded in studio."
   ]
  },
  {
   "cell_type": "code",
   "execution_count": null,
   "id": "0f009699-3dea-48b1-84e0-ad89f4598525",
   "metadata": {
    "tags": []
   },
   "outputs": [],
   "source": [
    "for music in music_files:\n",
    "    delete_file_on_disk(music)"
   ]
  },
  {
   "cell_type": "markdown",
   "id": "6f55f7fd-8b4b-4b42-82c4-323a1fd35b24",
   "metadata": {},
   "source": [
    "## Cleanup"
   ]
  },
  {
   "cell_type": "markdown",
   "id": "99ed71b1-6b10-4ad1-b01e-09dab761f18e",
   "metadata": {},
   "source": [
    "Programatically obtain the Endpoint, Endpoint Config, Model associated with the `endpoint_name` and delete the resources by setting the value of `cleanup` variable to `True`."
   ]
  },
  {
   "cell_type": "code",
   "execution_count": null,
   "id": "7263803f-bb9c-4680-b5d7-e653e78c5930",
   "metadata": {
    "tags": []
   },
   "outputs": [],
   "source": [
    "cleanup = True"
   ]
  },
  {
   "cell_type": "code",
   "execution_count": null,
   "id": "46644e9e-182e-48bf-b335-687d6ad7ade8",
   "metadata": {
    "tags": []
   },
   "outputs": [],
   "source": [
    "sm_client = boto3.client('sagemaker')\n",
    "endpoint = sm_client.describe_endpoint(EndpointName=endpoint_name)\n",
    "endpoint_config_name = endpoint['EndpointConfigName']\n",
    "endpoint_config = sm_client.describe_endpoint_config(EndpointConfigName=endpoint_config_name)\n",
    "model_name = endpoint_config['ProductionVariants'][0]['ModelName']\n",
    "notification_config = endpoint_config['AsyncInferenceConfig']['OutputConfig'].get('NotificationConfig', None)\n",
    "print(f\"\"\"\n",
    "About to delete the following sagemaker resources:\n",
    "Endpoint: {endpoint_name}\n",
    "Endpoint Config: {endpoint_config_name}\n",
    "Model: {model_name}\n",
    "\"\"\")\n",
    "for k,v in notification_config.items():\n",
    "    print(f'About to delete SNS topics for {k} with ARN: {v}')"
   ]
  },
  {
   "cell_type": "code",
   "execution_count": null,
   "id": "3667560c-e268-442f-a850-add6739059fa",
   "metadata": {},
   "outputs": [],
   "source": [
    "if cleanup:\n",
    "    # delete endpoint\n",
    "    sm_client.delete_endpoint(EndpointName=endpoint_name)\n",
    "    # delete endpoint config\n",
    "    sm_client.delete_endpoint_config(EndpointConfigName=endpoint_config_name)\n",
    "    # delete model\n",
    "    sm_client.delete_model(ModelName=model_name)\n",
    "    print('deleted model, config and endpoint')"
   ]
  },
  {
   "cell_type": "code",
   "execution_count": null,
   "id": "44b4a1cf-e6f9-476a-a4e2-f73e95c90c9e",
   "metadata": {
    "tags": []
   },
   "outputs": [],
   "source": [
    "import sys, os\n",
    "\n",
    "sys.path.insert(0, os.path.dirname(os.path.dirname(os.path.abspath(\"__file__\"))))\n",
    "\n",
    "from utils.sns_client import SnsClient\n",
    "del sys.path[0]"
   ]
  },
  {
   "cell_type": "code",
   "execution_count": null,
   "id": "86524045-d793-4099-a30b-8188cf2c772a",
   "metadata": {
    "tags": []
   },
   "outputs": [],
   "source": [
    "from utils.sns_client import SnsClient\n",
    "import boto3\n",
    "if cleanup:\n",
    "    sns_client = SnsClient(boto3.client(\"sns\"))\n",
    "    for k,v in notification_config.items():\n",
    "        sns_client.delete_topic(v)\n",
    "    print('deleted SNS topics associated with Async Endpoint')"
   ]
  },
  {
   "cell_type": "code",
   "execution_count": null,
   "id": "1378fd22-c672-4d9e-9c01-4bb16cd4e00e",
   "metadata": {},
   "outputs": [],
   "source": []
  },
  {
   "cell_type": "code",
   "execution_count": null,
   "id": "b3eb38d1-4497-4384-ae5f-d8f361b3c55a",
   "metadata": {},
   "outputs": [],
   "source": []
  }
 ],
 "metadata": {
  "availableInstances": [
   {
    "_defaultOrder": 0,
    "_isFastLaunch": true,
    "category": "General purpose",
    "gpuNum": 0,
    "hideHardwareSpecs": false,
    "memoryGiB": 4,
    "name": "ml.t3.medium",
    "vcpuNum": 2
   },
   {
    "_defaultOrder": 1,
    "_isFastLaunch": false,
    "category": "General purpose",
    "gpuNum": 0,
    "hideHardwareSpecs": false,
    "memoryGiB": 8,
    "name": "ml.t3.large",
    "vcpuNum": 2
   },
   {
    "_defaultOrder": 2,
    "_isFastLaunch": false,
    "category": "General purpose",
    "gpuNum": 0,
    "hideHardwareSpecs": false,
    "memoryGiB": 16,
    "name": "ml.t3.xlarge",
    "vcpuNum": 4
   },
   {
    "_defaultOrder": 3,
    "_isFastLaunch": false,
    "category": "General purpose",
    "gpuNum": 0,
    "hideHardwareSpecs": false,
    "memoryGiB": 32,
    "name": "ml.t3.2xlarge",
    "vcpuNum": 8
   },
   {
    "_defaultOrder": 4,
    "_isFastLaunch": true,
    "category": "General purpose",
    "gpuNum": 0,
    "hideHardwareSpecs": false,
    "memoryGiB": 8,
    "name": "ml.m5.large",
    "vcpuNum": 2
   },
   {
    "_defaultOrder": 5,
    "_isFastLaunch": false,
    "category": "General purpose",
    "gpuNum": 0,
    "hideHardwareSpecs": false,
    "memoryGiB": 16,
    "name": "ml.m5.xlarge",
    "vcpuNum": 4
   },
   {
    "_defaultOrder": 6,
    "_isFastLaunch": false,
    "category": "General purpose",
    "gpuNum": 0,
    "hideHardwareSpecs": false,
    "memoryGiB": 32,
    "name": "ml.m5.2xlarge",
    "vcpuNum": 8
   },
   {
    "_defaultOrder": 7,
    "_isFastLaunch": false,
    "category": "General purpose",
    "gpuNum": 0,
    "hideHardwareSpecs": false,
    "memoryGiB": 64,
    "name": "ml.m5.4xlarge",
    "vcpuNum": 16
   },
   {
    "_defaultOrder": 8,
    "_isFastLaunch": false,
    "category": "General purpose",
    "gpuNum": 0,
    "hideHardwareSpecs": false,
    "memoryGiB": 128,
    "name": "ml.m5.8xlarge",
    "vcpuNum": 32
   },
   {
    "_defaultOrder": 9,
    "_isFastLaunch": false,
    "category": "General purpose",
    "gpuNum": 0,
    "hideHardwareSpecs": false,
    "memoryGiB": 192,
    "name": "ml.m5.12xlarge",
    "vcpuNum": 48
   },
   {
    "_defaultOrder": 10,
    "_isFastLaunch": false,
    "category": "General purpose",
    "gpuNum": 0,
    "hideHardwareSpecs": false,
    "memoryGiB": 256,
    "name": "ml.m5.16xlarge",
    "vcpuNum": 64
   },
   {
    "_defaultOrder": 11,
    "_isFastLaunch": false,
    "category": "General purpose",
    "gpuNum": 0,
    "hideHardwareSpecs": false,
    "memoryGiB": 384,
    "name": "ml.m5.24xlarge",
    "vcpuNum": 96
   },
   {
    "_defaultOrder": 12,
    "_isFastLaunch": false,
    "category": "General purpose",
    "gpuNum": 0,
    "hideHardwareSpecs": false,
    "memoryGiB": 8,
    "name": "ml.m5d.large",
    "vcpuNum": 2
   },
   {
    "_defaultOrder": 13,
    "_isFastLaunch": false,
    "category": "General purpose",
    "gpuNum": 0,
    "hideHardwareSpecs": false,
    "memoryGiB": 16,
    "name": "ml.m5d.xlarge",
    "vcpuNum": 4
   },
   {
    "_defaultOrder": 14,
    "_isFastLaunch": false,
    "category": "General purpose",
    "gpuNum": 0,
    "hideHardwareSpecs": false,
    "memoryGiB": 32,
    "name": "ml.m5d.2xlarge",
    "vcpuNum": 8
   },
   {
    "_defaultOrder": 15,
    "_isFastLaunch": false,
    "category": "General purpose",
    "gpuNum": 0,
    "hideHardwareSpecs": false,
    "memoryGiB": 64,
    "name": "ml.m5d.4xlarge",
    "vcpuNum": 16
   },
   {
    "_defaultOrder": 16,
    "_isFastLaunch": false,
    "category": "General purpose",
    "gpuNum": 0,
    "hideHardwareSpecs": false,
    "memoryGiB": 128,
    "name": "ml.m5d.8xlarge",
    "vcpuNum": 32
   },
   {
    "_defaultOrder": 17,
    "_isFastLaunch": false,
    "category": "General purpose",
    "gpuNum": 0,
    "hideHardwareSpecs": false,
    "memoryGiB": 192,
    "name": "ml.m5d.12xlarge",
    "vcpuNum": 48
   },
   {
    "_defaultOrder": 18,
    "_isFastLaunch": false,
    "category": "General purpose",
    "gpuNum": 0,
    "hideHardwareSpecs": false,
    "memoryGiB": 256,
    "name": "ml.m5d.16xlarge",
    "vcpuNum": 64
   },
   {
    "_defaultOrder": 19,
    "_isFastLaunch": false,
    "category": "General purpose",
    "gpuNum": 0,
    "hideHardwareSpecs": false,
    "memoryGiB": 384,
    "name": "ml.m5d.24xlarge",
    "vcpuNum": 96
   },
   {
    "_defaultOrder": 20,
    "_isFastLaunch": false,
    "category": "General purpose",
    "gpuNum": 0,
    "hideHardwareSpecs": true,
    "memoryGiB": 0,
    "name": "ml.geospatial.interactive",
    "supportedImageNames": [
     "sagemaker-geospatial-v1-0"
    ],
    "vcpuNum": 0
   },
   {
    "_defaultOrder": 21,
    "_isFastLaunch": true,
    "category": "Compute optimized",
    "gpuNum": 0,
    "hideHardwareSpecs": false,
    "memoryGiB": 4,
    "name": "ml.c5.large",
    "vcpuNum": 2
   },
   {
    "_defaultOrder": 22,
    "_isFastLaunch": false,
    "category": "Compute optimized",
    "gpuNum": 0,
    "hideHardwareSpecs": false,
    "memoryGiB": 8,
    "name": "ml.c5.xlarge",
    "vcpuNum": 4
   },
   {
    "_defaultOrder": 23,
    "_isFastLaunch": false,
    "category": "Compute optimized",
    "gpuNum": 0,
    "hideHardwareSpecs": false,
    "memoryGiB": 16,
    "name": "ml.c5.2xlarge",
    "vcpuNum": 8
   },
   {
    "_defaultOrder": 24,
    "_isFastLaunch": false,
    "category": "Compute optimized",
    "gpuNum": 0,
    "hideHardwareSpecs": false,
    "memoryGiB": 32,
    "name": "ml.c5.4xlarge",
    "vcpuNum": 16
   },
   {
    "_defaultOrder": 25,
    "_isFastLaunch": false,
    "category": "Compute optimized",
    "gpuNum": 0,
    "hideHardwareSpecs": false,
    "memoryGiB": 72,
    "name": "ml.c5.9xlarge",
    "vcpuNum": 36
   },
   {
    "_defaultOrder": 26,
    "_isFastLaunch": false,
    "category": "Compute optimized",
    "gpuNum": 0,
    "hideHardwareSpecs": false,
    "memoryGiB": 96,
    "name": "ml.c5.12xlarge",
    "vcpuNum": 48
   },
   {
    "_defaultOrder": 27,
    "_isFastLaunch": false,
    "category": "Compute optimized",
    "gpuNum": 0,
    "hideHardwareSpecs": false,
    "memoryGiB": 144,
    "name": "ml.c5.18xlarge",
    "vcpuNum": 72
   },
   {
    "_defaultOrder": 28,
    "_isFastLaunch": false,
    "category": "Compute optimized",
    "gpuNum": 0,
    "hideHardwareSpecs": false,
    "memoryGiB": 192,
    "name": "ml.c5.24xlarge",
    "vcpuNum": 96
   },
   {
    "_defaultOrder": 29,
    "_isFastLaunch": true,
    "category": "Accelerated computing",
    "gpuNum": 1,
    "hideHardwareSpecs": false,
    "memoryGiB": 16,
    "name": "ml.g4dn.xlarge",
    "vcpuNum": 4
   },
   {
    "_defaultOrder": 30,
    "_isFastLaunch": false,
    "category": "Accelerated computing",
    "gpuNum": 1,
    "hideHardwareSpecs": false,
    "memoryGiB": 32,
    "name": "ml.g4dn.2xlarge",
    "vcpuNum": 8
   },
   {
    "_defaultOrder": 31,
    "_isFastLaunch": false,
    "category": "Accelerated computing",
    "gpuNum": 1,
    "hideHardwareSpecs": false,
    "memoryGiB": 64,
    "name": "ml.g4dn.4xlarge",
    "vcpuNum": 16
   },
   {
    "_defaultOrder": 32,
    "_isFastLaunch": false,
    "category": "Accelerated computing",
    "gpuNum": 1,
    "hideHardwareSpecs": false,
    "memoryGiB": 128,
    "name": "ml.g4dn.8xlarge",
    "vcpuNum": 32
   },
   {
    "_defaultOrder": 33,
    "_isFastLaunch": false,
    "category": "Accelerated computing",
    "gpuNum": 4,
    "hideHardwareSpecs": false,
    "memoryGiB": 192,
    "name": "ml.g4dn.12xlarge",
    "vcpuNum": 48
   },
   {
    "_defaultOrder": 34,
    "_isFastLaunch": false,
    "category": "Accelerated computing",
    "gpuNum": 1,
    "hideHardwareSpecs": false,
    "memoryGiB": 256,
    "name": "ml.g4dn.16xlarge",
    "vcpuNum": 64
   },
   {
    "_defaultOrder": 35,
    "_isFastLaunch": false,
    "category": "Accelerated computing",
    "gpuNum": 1,
    "hideHardwareSpecs": false,
    "memoryGiB": 61,
    "name": "ml.p3.2xlarge",
    "vcpuNum": 8
   },
   {
    "_defaultOrder": 36,
    "_isFastLaunch": false,
    "category": "Accelerated computing",
    "gpuNum": 4,
    "hideHardwareSpecs": false,
    "memoryGiB": 244,
    "name": "ml.p3.8xlarge",
    "vcpuNum": 32
   },
   {
    "_defaultOrder": 37,
    "_isFastLaunch": false,
    "category": "Accelerated computing",
    "gpuNum": 8,
    "hideHardwareSpecs": false,
    "memoryGiB": 488,
    "name": "ml.p3.16xlarge",
    "vcpuNum": 64
   },
   {
    "_defaultOrder": 38,
    "_isFastLaunch": false,
    "category": "Accelerated computing",
    "gpuNum": 8,
    "hideHardwareSpecs": false,
    "memoryGiB": 768,
    "name": "ml.p3dn.24xlarge",
    "vcpuNum": 96
   },
   {
    "_defaultOrder": 39,
    "_isFastLaunch": false,
    "category": "Memory Optimized",
    "gpuNum": 0,
    "hideHardwareSpecs": false,
    "memoryGiB": 16,
    "name": "ml.r5.large",
    "vcpuNum": 2
   },
   {
    "_defaultOrder": 40,
    "_isFastLaunch": false,
    "category": "Memory Optimized",
    "gpuNum": 0,
    "hideHardwareSpecs": false,
    "memoryGiB": 32,
    "name": "ml.r5.xlarge",
    "vcpuNum": 4
   },
   {
    "_defaultOrder": 41,
    "_isFastLaunch": false,
    "category": "Memory Optimized",
    "gpuNum": 0,
    "hideHardwareSpecs": false,
    "memoryGiB": 64,
    "name": "ml.r5.2xlarge",
    "vcpuNum": 8
   },
   {
    "_defaultOrder": 42,
    "_isFastLaunch": false,
    "category": "Memory Optimized",
    "gpuNum": 0,
    "hideHardwareSpecs": false,
    "memoryGiB": 128,
    "name": "ml.r5.4xlarge",
    "vcpuNum": 16
   },
   {
    "_defaultOrder": 43,
    "_isFastLaunch": false,
    "category": "Memory Optimized",
    "gpuNum": 0,
    "hideHardwareSpecs": false,
    "memoryGiB": 256,
    "name": "ml.r5.8xlarge",
    "vcpuNum": 32
   },
   {
    "_defaultOrder": 44,
    "_isFastLaunch": false,
    "category": "Memory Optimized",
    "gpuNum": 0,
    "hideHardwareSpecs": false,
    "memoryGiB": 384,
    "name": "ml.r5.12xlarge",
    "vcpuNum": 48
   },
   {
    "_defaultOrder": 45,
    "_isFastLaunch": false,
    "category": "Memory Optimized",
    "gpuNum": 0,
    "hideHardwareSpecs": false,
    "memoryGiB": 512,
    "name": "ml.r5.16xlarge",
    "vcpuNum": 64
   },
   {
    "_defaultOrder": 46,
    "_isFastLaunch": false,
    "category": "Memory Optimized",
    "gpuNum": 0,
    "hideHardwareSpecs": false,
    "memoryGiB": 768,
    "name": "ml.r5.24xlarge",
    "vcpuNum": 96
   },
   {
    "_defaultOrder": 47,
    "_isFastLaunch": false,
    "category": "Accelerated computing",
    "gpuNum": 1,
    "hideHardwareSpecs": false,
    "memoryGiB": 16,
    "name": "ml.g5.xlarge",
    "vcpuNum": 4
   },
   {
    "_defaultOrder": 48,
    "_isFastLaunch": false,
    "category": "Accelerated computing",
    "gpuNum": 1,
    "hideHardwareSpecs": false,
    "memoryGiB": 32,
    "name": "ml.g5.2xlarge",
    "vcpuNum": 8
   },
   {
    "_defaultOrder": 49,
    "_isFastLaunch": false,
    "category": "Accelerated computing",
    "gpuNum": 1,
    "hideHardwareSpecs": false,
    "memoryGiB": 64,
    "name": "ml.g5.4xlarge",
    "vcpuNum": 16
   },
   {
    "_defaultOrder": 50,
    "_isFastLaunch": false,
    "category": "Accelerated computing",
    "gpuNum": 1,
    "hideHardwareSpecs": false,
    "memoryGiB": 128,
    "name": "ml.g5.8xlarge",
    "vcpuNum": 32
   },
   {
    "_defaultOrder": 51,
    "_isFastLaunch": false,
    "category": "Accelerated computing",
    "gpuNum": 1,
    "hideHardwareSpecs": false,
    "memoryGiB": 256,
    "name": "ml.g5.16xlarge",
    "vcpuNum": 64
   },
   {
    "_defaultOrder": 52,
    "_isFastLaunch": false,
    "category": "Accelerated computing",
    "gpuNum": 4,
    "hideHardwareSpecs": false,
    "memoryGiB": 192,
    "name": "ml.g5.12xlarge",
    "vcpuNum": 48
   },
   {
    "_defaultOrder": 53,
    "_isFastLaunch": false,
    "category": "Accelerated computing",
    "gpuNum": 4,
    "hideHardwareSpecs": false,
    "memoryGiB": 384,
    "name": "ml.g5.24xlarge",
    "vcpuNum": 96
   },
   {
    "_defaultOrder": 54,
    "_isFastLaunch": false,
    "category": "Accelerated computing",
    "gpuNum": 8,
    "hideHardwareSpecs": false,
    "memoryGiB": 768,
    "name": "ml.g5.48xlarge",
    "vcpuNum": 192
   },
   {
    "_defaultOrder": 55,
    "_isFastLaunch": false,
    "category": "Accelerated computing",
    "gpuNum": 8,
    "hideHardwareSpecs": false,
    "memoryGiB": 1152,
    "name": "ml.p4d.24xlarge",
    "vcpuNum": 96
   },
   {
    "_defaultOrder": 56,
    "_isFastLaunch": false,
    "category": "Accelerated computing",
    "gpuNum": 8,
    "hideHardwareSpecs": false,
    "memoryGiB": 1152,
    "name": "ml.p4de.24xlarge",
    "vcpuNum": 96
   },
   {
    "_defaultOrder": 57,
    "_isFastLaunch": false,
    "category": "Accelerated computing",
    "gpuNum": 0,
    "hideHardwareSpecs": false,
    "memoryGiB": 32,
    "name": "ml.trn1.2xlarge",
    "vcpuNum": 8
   },
   {
    "_defaultOrder": 58,
    "_isFastLaunch": false,
    "category": "Accelerated computing",
    "gpuNum": 0,
    "hideHardwareSpecs": false,
    "memoryGiB": 512,
    "name": "ml.trn1.32xlarge",
    "vcpuNum": 128
   },
   {
    "_defaultOrder": 59,
    "_isFastLaunch": false,
    "category": "Accelerated computing",
    "gpuNum": 0,
    "hideHardwareSpecs": false,
    "memoryGiB": 512,
    "name": "ml.trn1n.32xlarge",
    "vcpuNum": 128
   }
  ],
  "instance_type": "ml.t3.medium",
  "kernelspec": {
   "display_name": "Python 3 (Data Science 3.0)",
   "language": "python",
   "name": "python3__SAGEMAKER_INTERNAL__arn:aws:sagemaker:us-west-2:236514542706:image/sagemaker-data-science-310-v1"
  },
  "language_info": {
   "codemirror_mode": {
    "name": "ipython",
    "version": 3
   },
   "file_extension": ".py",
   "mimetype": "text/x-python",
   "name": "python",
   "nbconvert_exporter": "python",
   "pygments_lexer": "ipython3",
   "version": "3.10.6"
  }
 },
 "nbformat": 4,
 "nbformat_minor": 5
}
